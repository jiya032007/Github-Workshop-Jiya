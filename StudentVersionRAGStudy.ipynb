{
  "nbformat": 4,
  "nbformat_minor": 0,
  "metadata": {
    "colab": {
      "provenance": [],
      "include_colab_link": true
    },
    "kernelspec": {
      "name": "python3",
      "display_name": "Python 3"
    },
    "language_info": {
      "name": "python"
    }
  },
  "cells": [
    {
      "cell_type": "markdown",
      "metadata": {
        "id": "view-in-github",
        "colab_type": "text"
      },
      "source": [
        "<a href=\"https://colab.research.google.com/github/jiya032007/Github-Workshop-Jiya/blob/main/StudentVersionRAGStudy.ipynb\" target=\"_parent\"><img src=\"https://colab.research.google.com/assets/colab-badge.svg\" alt=\"Open In Colab\"/></a>"
      ]
    },
    {
      "cell_type": "markdown",
      "source": [
        "# Step 1: Install Dependencies"
      ],
      "metadata": {
        "id": "ec9UVEP7qOEU"
      }
    },
    {
      "cell_type": "code",
      "execution_count": null,
      "metadata": {
        "id": "SVUuFLJzqJQO"
      },
      "outputs": [],
      "source": [
        "!pip install chromadb sentence-transformers pypdf google-generativeai"
      ]
    },
    {
      "cell_type": "markdown",
      "source": [
        "# Step 2: Upload and Extract text from PDF"
      ],
      "metadata": {
        "id": "5_vyTI_jqfEU"
      }
    },
    {
      "cell_type": "code",
      "source": [
        "from google.colab import files\n",
        "from pypdf import PdfReader\n",
        "\n",
        "uploaded = files.upload()\n",
        "pdf_path = next(iter(uploaded))\n",
        "reader = PdfReader(pdf_path)\n",
        "text = \"\"\n",
        "for page in reader.pages:\n",
        "  # TODO: Extract text from the page and add it to the 'text' variable\n",
        "\n",
        "print(text[:1000])  # Preview first 1000 chars"
      ],
      "metadata": {
        "id": "8EPq31DjqMpq"
      },
      "execution_count": null,
      "outputs": []
    },
    {
      "cell_type": "markdown",
      "source": [
        "# Step 3: Chunk and Vectorize Text"
      ],
      "metadata": {
        "id": "DE3doj1cqoVw"
      }
    },
    {
      "cell_type": "code",
      "source": [
        "from sentence_transformers import SentenceTransformer\n",
        "\n",
        "CHUNK_SIZE = 500\n",
        "chunks = [text[i:i+CHUNK_SIZE] for i in range(0, len(text), CHUNK_SIZE)]\n",
        "embedder = SentenceTransformer('all-MiniLM-L6-v2')\n",
        "# TODO: Generate embeddings for the chunks\n"
      ],
      "metadata": {
        "id": "cEQDI9ByqkFq"
      },
      "execution_count": null,
      "outputs": []
    },
    {
      "cell_type": "markdown",
      "source": [
        "# Step 4: Use ChromaDB for storing vectorized text"
      ],
      "metadata": {
        "id": "XYjp26ZIq8mY"
      }
    },
    {
      "cell_type": "code",
      "source": [
        "import chromadb\n",
        "from chromadb.config import Settings\n",
        "\n",
        "client = chromadb.Client(Settings(anonymized_telemetry=False))\n",
        "collection = client.create_collection(name=\"pdf_notes\")\n",
        "ids = [f\"chunk_{i}\" for i in range(len(chunks))]\n",
        "# TODO: Add the documents, embeddings, and ids to the collection\n"
      ],
      "metadata": {
        "id": "JqgFCa16q2jL"
      },
      "execution_count": null,
      "outputs": []
    },
    {
      "cell_type": "markdown",
      "source": [
        "# Step 5: Take input and generate context"
      ],
      "metadata": {
        "id": "qfEURXfMrUGD"
      }
    },
    {
      "cell_type": "code",
      "source": [
        "query = input(\"Enter your question: \")\n",
        "query_emb = embedder.encode([query])[0]\n",
        "\n",
        "results = # TODO: Query the collection to find the top 3 most similar chunks\n",
        "\n",
        "context = \"\\n---\\n\".join(results['documents'][0])\n",
        "print(\"Context:\\n\", context)"
      ],
      "metadata": {
        "id": "6gKI6ULGrOHg"
      },
      "execution_count": null,
      "outputs": []
    },
    {
      "cell_type": "markdown",
      "source": [
        "# Step 6: Use Gemini to answer questions from the context"
      ],
      "metadata": {
        "id": "2erZUsVKrke8"
      }
    },
    {
      "cell_type": "code",
      "source": [
        "from google.colab import userdata\n",
        "import google.generativeai as genai\n",
        "\n",
        "# Make sure to have API_KEY in your secrets\n",
        "genai.configure(api_key=userdata.get(\"API_KEY\"))\n",
        "\n",
        "model = genai.GenerativeModel('models/gemini-2.5-flash')\n",
        "\n",
        "prompt = # TODO: Create the prompt by combining the retrieved context and the user's query\n",
        "\n",
        "response = model.generate_content(prompt)\n",
        "print(\"Answer:\", response.text)"
      ],
      "metadata": {
        "id": "ETXYzVHvreEC"
      },
      "execution_count": null,
      "outputs": []
    }
  ]
}